{
 "cells": [
  {
   "cell_type": "markdown",
   "id": "d92db30e",
   "metadata": {},
   "source": [
    "# Modelo de Precidição de Valores das Casas\n",
    "##### Feito por Giulliano Veiga - Whatsapp: 8598170-8027"
   ]
  },
  {
   "cell_type": "markdown",
   "id": "4a6ea2de",
   "metadata": {},
   "source": [
    "### Importando Bibliotecas"
   ]
  },
  {
   "cell_type": "code",
   "execution_count": 80,
   "id": "27764ec1",
   "metadata": {},
   "outputs": [
    {
     "name": "stdout",
     "output_type": "stream",
     "text": [
      "Requirement already satisfied: scikit-learn in c:\\users\\giulliano.filho\\appdata\\local\\programs\\python\\python313\\lib\\site-packages (1.7.0)\n",
      "Requirement already satisfied: numpy>=1.22.0 in c:\\users\\giulliano.filho\\appdata\\local\\programs\\python\\python313\\lib\\site-packages (from scikit-learn) (2.1.3)\n",
      "Requirement already satisfied: scipy>=1.8.0 in c:\\users\\giulliano.filho\\appdata\\local\\programs\\python\\python313\\lib\\site-packages (from scikit-learn) (1.16.0)\n",
      "Requirement already satisfied: joblib>=1.2.0 in c:\\users\\giulliano.filho\\appdata\\local\\programs\\python\\python313\\lib\\site-packages (from scikit-learn) (1.5.1)\n",
      "Requirement already satisfied: threadpoolctl>=3.1.0 in c:\\users\\giulliano.filho\\appdata\\local\\programs\\python\\python313\\lib\\site-packages (from scikit-learn) (3.6.0)\n",
      "Note: you may need to restart the kernel to use updated packages.\n"
     ]
    },
    {
     "name": "stderr",
     "output_type": "stream",
     "text": [
      "\n",
      "[notice] A new release of pip is available: 24.3.1 -> 25.1.1\n",
      "[notice] To update, run: python.exe -m pip install --upgrade pip\n"
     ]
    }
   ],
   "source": [
    "# pandas para leitura de arquivos CSV\n",
    "import pandas as pd\n",
    "# matplotlib para visualização de dados\n",
    "import matplotlib.pyplot as plt\n",
    "# scikit-learn para dividir os dados em conjuntos de treinamento e teste\n",
    "%pip install scikit-learn"
   ]
  },
  {
   "cell_type": "code",
   "execution_count": 81,
   "id": "32e530d3",
   "metadata": {},
   "outputs": [
    {
     "data": {
      "application/vnd.microsoft.datawrangler.viewer.v0+json": {
       "columns": [
        {
         "name": "index",
         "rawType": "int64",
         "type": "integer"
        },
        {
         "name": "longitude",
         "rawType": "float64",
         "type": "float"
        },
        {
         "name": "latitude",
         "rawType": "float64",
         "type": "float"
        },
        {
         "name": "housing_median_age",
         "rawType": "float64",
         "type": "float"
        },
        {
         "name": "total_rooms",
         "rawType": "float64",
         "type": "float"
        },
        {
         "name": "total_bedrooms",
         "rawType": "float64",
         "type": "float"
        },
        {
         "name": "population",
         "rawType": "float64",
         "type": "float"
        },
        {
         "name": "households",
         "rawType": "float64",
         "type": "float"
        },
        {
         "name": "median_income",
         "rawType": "float64",
         "type": "float"
        },
        {
         "name": "median_house_value",
         "rawType": "float64",
         "type": "float"
        },
        {
         "name": "ocean_proximity",
         "rawType": "object",
         "type": "string"
        }
       ],
       "ref": "35473811-45d9-44c0-b6f3-d52473a13a34",
       "rows": [
        [
         "0",
         "-122.23",
         "37.88",
         "41.0",
         "880.0",
         "129.0",
         "322.0",
         "126.0",
         "8.3252",
         "452600.0",
         "NEAR BAY"
        ],
        [
         "1",
         "-122.22",
         "37.86",
         "21.0",
         "7099.0",
         "1106.0",
         "2401.0",
         "1138.0",
         "8.3014",
         "358500.0",
         "NEAR BAY"
        ],
        [
         "2",
         "-122.24",
         "37.85",
         "52.0",
         "1467.0",
         "190.0",
         "496.0",
         "177.0",
         "7.2574",
         "352100.0",
         "NEAR BAY"
        ]
       ],
       "shape": {
        "columns": 10,
        "rows": 3
       }
      },
      "text/html": [
       "<div>\n",
       "<style scoped>\n",
       "    .dataframe tbody tr th:only-of-type {\n",
       "        vertical-align: middle;\n",
       "    }\n",
       "\n",
       "    .dataframe tbody tr th {\n",
       "        vertical-align: top;\n",
       "    }\n",
       "\n",
       "    .dataframe thead th {\n",
       "        text-align: right;\n",
       "    }\n",
       "</style>\n",
       "<table border=\"1\" class=\"dataframe\">\n",
       "  <thead>\n",
       "    <tr style=\"text-align: right;\">\n",
       "      <th></th>\n",
       "      <th>longitude</th>\n",
       "      <th>latitude</th>\n",
       "      <th>housing_median_age</th>\n",
       "      <th>total_rooms</th>\n",
       "      <th>total_bedrooms</th>\n",
       "      <th>population</th>\n",
       "      <th>households</th>\n",
       "      <th>median_income</th>\n",
       "      <th>median_house_value</th>\n",
       "      <th>ocean_proximity</th>\n",
       "    </tr>\n",
       "  </thead>\n",
       "  <tbody>\n",
       "    <tr>\n",
       "      <th>0</th>\n",
       "      <td>-122.23</td>\n",
       "      <td>37.88</td>\n",
       "      <td>41.0</td>\n",
       "      <td>880.0</td>\n",
       "      <td>129.0</td>\n",
       "      <td>322.0</td>\n",
       "      <td>126.0</td>\n",
       "      <td>8.3252</td>\n",
       "      <td>452600.0</td>\n",
       "      <td>NEAR BAY</td>\n",
       "    </tr>\n",
       "    <tr>\n",
       "      <th>1</th>\n",
       "      <td>-122.22</td>\n",
       "      <td>37.86</td>\n",
       "      <td>21.0</td>\n",
       "      <td>7099.0</td>\n",
       "      <td>1106.0</td>\n",
       "      <td>2401.0</td>\n",
       "      <td>1138.0</td>\n",
       "      <td>8.3014</td>\n",
       "      <td>358500.0</td>\n",
       "      <td>NEAR BAY</td>\n",
       "    </tr>\n",
       "    <tr>\n",
       "      <th>2</th>\n",
       "      <td>-122.24</td>\n",
       "      <td>37.85</td>\n",
       "      <td>52.0</td>\n",
       "      <td>1467.0</td>\n",
       "      <td>190.0</td>\n",
       "      <td>496.0</td>\n",
       "      <td>177.0</td>\n",
       "      <td>7.2574</td>\n",
       "      <td>352100.0</td>\n",
       "      <td>NEAR BAY</td>\n",
       "    </tr>\n",
       "  </tbody>\n",
       "</table>\n",
       "</div>"
      ],
      "text/plain": [
       "   longitude  latitude  housing_median_age  total_rooms  total_bedrooms  \\\n",
       "0    -122.23     37.88                41.0        880.0           129.0   \n",
       "1    -122.22     37.86                21.0       7099.0          1106.0   \n",
       "2    -122.24     37.85                52.0       1467.0           190.0   \n",
       "\n",
       "   population  households  median_income  median_house_value ocean_proximity  \n",
       "0       322.0       126.0         8.3252            452600.0        NEAR BAY  \n",
       "1      2401.0      1138.0         8.3014            358500.0        NEAR BAY  \n",
       "2       496.0       177.0         7.2574            352100.0        NEAR BAY  "
      ]
     },
     "execution_count": 81,
     "metadata": {},
     "output_type": "execute_result"
    }
   ],
   "source": [
    "# importando dataset senso_california\n",
    "senso_california = pd.read_csv(\"senso_california.csv\")\n",
    "# exibindo as primeiras linhas do dataframe\n",
    "\n",
    "senso_california.head(3)"
   ]
  },
  {
   "cell_type": "code",
   "execution_count": 82,
   "id": "20ece240",
   "metadata": {},
   "outputs": [
    {
     "name": "stdout",
     "output_type": "stream",
     "text": [
      "<class 'pandas.core.frame.DataFrame'>\n",
      "RangeIndex: 20640 entries, 0 to 20639\n",
      "Data columns (total 10 columns):\n",
      " #   Column              Non-Null Count  Dtype  \n",
      "---  ------              --------------  -----  \n",
      " 0   longitude           20640 non-null  float64\n",
      " 1   latitude            20640 non-null  float64\n",
      " 2   housing_median_age  20640 non-null  float64\n",
      " 3   total_rooms         20640 non-null  float64\n",
      " 4   total_bedrooms      20433 non-null  float64\n",
      " 5   population          20640 non-null  float64\n",
      " 6   households          20640 non-null  float64\n",
      " 7   median_income       20640 non-null  float64\n",
      " 8   median_house_value  20640 non-null  float64\n",
      " 9   ocean_proximity     20640 non-null  object \n",
      "dtypes: float64(9), object(1)\n",
      "memory usage: 1.6+ MB\n"
     ]
    }
   ],
   "source": [
    "# o .info() exibe informações gerais do dataframe, como número de linhas, colunas, tipos de dados e uso de memória.\n",
    "senso_california.info()"
   ]
  },
  {
   "cell_type": "code",
   "execution_count": 83,
   "id": "3fe74377",
   "metadata": {},
   "outputs": [
    {
     "data": {
      "application/vnd.microsoft.datawrangler.viewer.v0+json": {
       "columns": [
        {
         "name": "index",
         "rawType": "int64",
         "type": "integer"
        },
        {
         "name": "longitude",
         "rawType": "float64",
         "type": "float"
        },
        {
         "name": "latitude",
         "rawType": "float64",
         "type": "float"
        },
        {
         "name": "housing_median_age",
         "rawType": "float64",
         "type": "float"
        },
        {
         "name": "total_rooms",
         "rawType": "float64",
         "type": "float"
        },
        {
         "name": "total_bedrooms",
         "rawType": "float64",
         "type": "float"
        },
        {
         "name": "population",
         "rawType": "float64",
         "type": "float"
        },
        {
         "name": "households",
         "rawType": "float64",
         "type": "float"
        },
        {
         "name": "median_income",
         "rawType": "float64",
         "type": "float"
        },
        {
         "name": "median_house_value",
         "rawType": "float64",
         "type": "float"
        },
        {
         "name": "ocean_proximity",
         "rawType": "object",
         "type": "string"
        }
       ],
       "ref": "8de9793d-05ca-438b-9681-5eb4d32b9ec3",
       "rows": [
        [
         "290",
         "-122.16",
         "37.77",
         "47.0",
         "1256.0",
         null,
         "570.0",
         "218.0",
         "4.375",
         "161900.0",
         "NEAR BAY"
        ],
        [
         "341",
         "-122.17",
         "37.75",
         "38.0",
         "992.0",
         null,
         "732.0",
         "259.0",
         "1.6196",
         "85100.0",
         "NEAR BAY"
        ],
        [
         "538",
         "-122.28",
         "37.78",
         "29.0",
         "5154.0",
         null,
         "3741.0",
         "1273.0",
         "2.5762",
         "173400.0",
         "NEAR BAY"
        ],
        [
         "563",
         "-122.24",
         "37.75",
         "45.0",
         "891.0",
         null,
         "384.0",
         "146.0",
         "4.9489",
         "247100.0",
         "NEAR BAY"
        ],
        [
         "696",
         "-122.1",
         "37.69",
         "41.0",
         "746.0",
         null,
         "387.0",
         "161.0",
         "3.9063",
         "178400.0",
         "NEAR BAY"
        ],
        [
         "738",
         "-122.14",
         "37.67",
         "37.0",
         "3342.0",
         null,
         "1635.0",
         "557.0",
         "4.7933",
         "186900.0",
         "NEAR BAY"
        ],
        [
         "1097",
         "-121.77",
         "39.66",
         "20.0",
         "3759.0",
         null,
         "1705.0",
         "600.0",
         "4.712",
         "158600.0",
         "INLAND"
        ],
        [
         "1350",
         "-121.95",
         "38.03",
         "5.0",
         "5526.0",
         null,
         "3207.0",
         "1012.0",
         "4.0767",
         "143100.0",
         "INLAND"
        ],
        [
         "1456",
         "-121.98",
         "37.96",
         "22.0",
         "2987.0",
         null,
         "1420.0",
         "540.0",
         "3.65",
         "204100.0",
         "INLAND"
        ],
        [
         "1493",
         "-122.01",
         "37.94",
         "23.0",
         "3741.0",
         null,
         "1339.0",
         "499.0",
         "6.7061",
         "322300.0",
         "NEAR BAY"
        ],
        [
         "1606",
         "-122.08",
         "37.88",
         "26.0",
         "2947.0",
         null,
         "825.0",
         "626.0",
         "2.933",
         "85000.0",
         "NEAR BAY"
        ],
        [
         "2028",
         "-119.75",
         "36.71",
         "38.0",
         "1481.0",
         null,
         "1543.0",
         "372.0",
         "1.4577",
         "49800.0",
         "INLAND"
        ],
        [
         "2115",
         "-119.72",
         "36.76",
         "23.0",
         "6403.0",
         null,
         "3573.0",
         "1260.0",
         "2.3006",
         "69000.0",
         "INLAND"
        ],
        [
         "2301",
         "-119.78",
         "36.82",
         "25.0",
         "5016.0",
         null,
         "2133.0",
         "928.0",
         "3.625",
         "89500.0",
         "INLAND"
        ],
        [
         "2323",
         "-119.73",
         "36.83",
         "8.0",
         "3602.0",
         null,
         "1959.0",
         "580.0",
         "5.3478",
         "138800.0",
         "INLAND"
        ],
        [
         "2334",
         "-119.69",
         "36.83",
         "32.0",
         "1098.0",
         null,
         "726.0",
         "224.0",
         "1.4913",
         "54600.0",
         "INLAND"
        ],
        [
         "2351",
         "-119.68",
         "36.79",
         "16.0",
         "1551.0",
         null,
         "1010.0",
         "292.0",
         "3.5417",
         "71300.0",
         "INLAND"
        ],
        [
         "2412",
         "-119.45",
         "36.61",
         "24.0",
         "1302.0",
         null,
         "693.0",
         "243.0",
         "3.7917",
         "90500.0",
         "INLAND"
        ],
        [
         "2420",
         "-119.44",
         "36.58",
         "37.0",
         "1054.0",
         null,
         "879.0",
         "257.0",
         "2.5234",
         "63500.0",
         "INLAND"
        ],
        [
         "2578",
         "-124.06",
         "40.86",
         "34.0",
         "4183.0",
         null,
         "1891.0",
         "669.0",
         "3.2216",
         "98100.0",
         "NEAR OCEAN"
        ],
        [
         "2608",
         "-124.0",
         "40.92",
         "29.0",
         "1429.0",
         null,
         "672.0",
         "266.0",
         "2.9485",
         "98800.0",
         "<1H OCEAN"
        ],
        [
         "2647",
         "-124.13",
         "40.55",
         "38.0",
         "544.0",
         null,
         "240.0",
         "91.0",
         "3.25",
         "94800.0",
         "<1H OCEAN"
        ],
        [
         "2826",
         "-119.11",
         "35.42",
         "52.0",
         "154.0",
         null,
         "37.0",
         "16.0",
         "10.0263",
         "200000.0",
         "INLAND"
        ],
        [
         "3024",
         "-119.46",
         "35.14",
         "30.0",
         "2943.0",
         null,
         "1565.0",
         "584.0",
         "2.5313",
         "45800.0",
         "INLAND"
        ],
        [
         "3328",
         "-122.72",
         "38.88",
         "29.0",
         "2781.0",
         null,
         "890.0",
         "310.0",
         "1.9906",
         "96600.0",
         "INLAND"
        ],
        [
         "3354",
         "-120.67",
         "40.5",
         "15.0",
         "5343.0",
         null,
         "2503.0",
         "902.0",
         "3.5962",
         "85900.0",
         "INLAND"
        ],
        [
         "3376",
         "-118.28",
         "34.25",
         "29.0",
         "2559.0",
         null,
         "1886.0",
         "769.0",
         "2.6036",
         "162100.0",
         "<1H OCEAN"
        ],
        [
         "3482",
         "-118.45",
         "34.3",
         "27.0",
         "2676.0",
         null,
         "2661.0",
         "623.0",
         "4.3047",
         "152100.0",
         "<1H OCEAN"
        ],
        [
         "3485",
         "-118.55",
         "34.28",
         "16.0",
         "8879.0",
         null,
         "3468.0",
         "1200.0",
         "8.1125",
         "428600.0",
         "<1H OCEAN"
        ],
        [
         "3529",
         "-118.53",
         "34.26",
         "18.0",
         "3674.0",
         null,
         "1590.0",
         "550.0",
         "8.176",
         "308400.0",
         "<1H OCEAN"
        ],
        [
         "3721",
         "-118.43",
         "34.2",
         "28.0",
         "3386.0",
         null,
         "2240.0",
         "737.0",
         "3.0221",
         "290100.0",
         "<1H OCEAN"
        ],
        [
         "3778",
         "-118.4",
         "34.17",
         "24.0",
         "6347.0",
         null,
         "2945.0",
         "1492.0",
         "3.3545",
         "221500.0",
         "<1H OCEAN"
        ],
        [
         "3912",
         "-118.55",
         "34.19",
         "18.0",
         "5862.0",
         null,
         "3161.0",
         "1280.0",
         "3.1106",
         "170600.0",
         "<1H OCEAN"
        ],
        [
         "3921",
         "-118.56",
         "34.2",
         "35.0",
         "2273.0",
         null,
         "1431.0",
         "403.0",
         "4.0789",
         "196700.0",
         "<1H OCEAN"
        ],
        [
         "3958",
         "-118.59",
         "34.2",
         "21.0",
         "1789.0",
         null,
         "2300.0",
         "677.0",
         "2.754",
         "179800.0",
         "<1H OCEAN"
        ],
        [
         "4043",
         "-118.5",
         "34.17",
         "37.0",
         "880.0",
         null,
         "369.0",
         "155.0",
         "4.1429",
         "303600.0",
         "<1H OCEAN"
        ],
        [
         "4046",
         "-118.49",
         "34.13",
         "24.0",
         "4394.0",
         null,
         "1443.0",
         "528.0",
         "11.2979",
         "500001.0",
         "<1H OCEAN"
        ],
        [
         "4186",
         "-118.23",
         "34.13",
         "48.0",
         "1308.0",
         null,
         "835.0",
         "294.0",
         "4.2891",
         "214800.0",
         "<1H OCEAN"
        ],
        [
         "4279",
         "-118.31",
         "34.09",
         "37.0",
         "773.0",
         null,
         "835.0",
         "312.0",
         "1.8576",
         "193800.0",
         "<1H OCEAN"
        ],
        [
         "4309",
         "-118.32",
         "34.09",
         "44.0",
         "2666.0",
         null,
         "2297.0",
         "726.0",
         "1.676",
         "208800.0",
         "<1H OCEAN"
        ],
        [
         "4391",
         "-118.27",
         "34.07",
         "27.0",
         "1190.0",
         null,
         "1795.0",
         "422.0",
         "1.7016",
         "160000.0",
         "<1H OCEAN"
        ],
        [
         "4447",
         "-118.21",
         "34.07",
         "52.0",
         "1770.0",
         null,
         "1848.0",
         "439.0",
         "2.4135",
         "167200.0",
         "<1H OCEAN"
        ],
        [
         "4496",
         "-118.22",
         "34.05",
         "34.0",
         "1113.0",
         null,
         "928.0",
         "290.0",
         "3.1654",
         "155000.0",
         "<1H OCEAN"
        ],
        [
         "4591",
         "-118.28",
         "34.06",
         "42.0",
         "2472.0",
         null,
         "3795.0",
         "1179.0",
         "1.2254",
         "162500.0",
         "<1H OCEAN"
        ],
        [
         "4600",
         "-118.27",
         "34.04",
         "13.0",
         "1784.0",
         null,
         "2158.0",
         "682.0",
         "1.7038",
         "118100.0",
         "<1H OCEAN"
        ],
        [
         "4629",
         "-118.3",
         "34.07",
         "18.0",
         "3759.0",
         null,
         "3296.0",
         "1462.0",
         "2.2708",
         "175000.0",
         "<1H OCEAN"
        ],
        [
         "4667",
         "-118.29",
         "34.05",
         "34.0",
         "1102.0",
         null,
         "1325.0",
         "439.0",
         "1.5972",
         "168800.0",
         "<1H OCEAN"
        ],
        [
         "4691",
         "-118.37",
         "34.07",
         "50.0",
         "2519.0",
         null,
         "1117.0",
         "516.0",
         "4.3667",
         "405600.0",
         "<1H OCEAN"
        ],
        [
         "4738",
         "-118.38",
         "34.05",
         "49.0",
         "702.0",
         null,
         "458.0",
         "187.0",
         "4.8958",
         "333600.0",
         "<1H OCEAN"
        ],
        [
         "4743",
         "-118.36",
         "34.05",
         "42.0",
         "1372.0",
         null,
         "674.0",
         "271.0",
         "2.8793",
         "202100.0",
         "<1H OCEAN"
        ]
       ],
       "shape": {
        "columns": 10,
        "rows": 207
       }
      },
      "text/html": [
       "<div>\n",
       "<style scoped>\n",
       "    .dataframe tbody tr th:only-of-type {\n",
       "        vertical-align: middle;\n",
       "    }\n",
       "\n",
       "    .dataframe tbody tr th {\n",
       "        vertical-align: top;\n",
       "    }\n",
       "\n",
       "    .dataframe thead th {\n",
       "        text-align: right;\n",
       "    }\n",
       "</style>\n",
       "<table border=\"1\" class=\"dataframe\">\n",
       "  <thead>\n",
       "    <tr style=\"text-align: right;\">\n",
       "      <th></th>\n",
       "      <th>longitude</th>\n",
       "      <th>latitude</th>\n",
       "      <th>housing_median_age</th>\n",
       "      <th>total_rooms</th>\n",
       "      <th>total_bedrooms</th>\n",
       "      <th>population</th>\n",
       "      <th>households</th>\n",
       "      <th>median_income</th>\n",
       "      <th>median_house_value</th>\n",
       "      <th>ocean_proximity</th>\n",
       "    </tr>\n",
       "  </thead>\n",
       "  <tbody>\n",
       "    <tr>\n",
       "      <th>290</th>\n",
       "      <td>-122.16</td>\n",
       "      <td>37.77</td>\n",
       "      <td>47.0</td>\n",
       "      <td>1256.0</td>\n",
       "      <td>NaN</td>\n",
       "      <td>570.0</td>\n",
       "      <td>218.0</td>\n",
       "      <td>4.3750</td>\n",
       "      <td>161900.0</td>\n",
       "      <td>NEAR BAY</td>\n",
       "    </tr>\n",
       "    <tr>\n",
       "      <th>341</th>\n",
       "      <td>-122.17</td>\n",
       "      <td>37.75</td>\n",
       "      <td>38.0</td>\n",
       "      <td>992.0</td>\n",
       "      <td>NaN</td>\n",
       "      <td>732.0</td>\n",
       "      <td>259.0</td>\n",
       "      <td>1.6196</td>\n",
       "      <td>85100.0</td>\n",
       "      <td>NEAR BAY</td>\n",
       "    </tr>\n",
       "    <tr>\n",
       "      <th>538</th>\n",
       "      <td>-122.28</td>\n",
       "      <td>37.78</td>\n",
       "      <td>29.0</td>\n",
       "      <td>5154.0</td>\n",
       "      <td>NaN</td>\n",
       "      <td>3741.0</td>\n",
       "      <td>1273.0</td>\n",
       "      <td>2.5762</td>\n",
       "      <td>173400.0</td>\n",
       "      <td>NEAR BAY</td>\n",
       "    </tr>\n",
       "    <tr>\n",
       "      <th>563</th>\n",
       "      <td>-122.24</td>\n",
       "      <td>37.75</td>\n",
       "      <td>45.0</td>\n",
       "      <td>891.0</td>\n",
       "      <td>NaN</td>\n",
       "      <td>384.0</td>\n",
       "      <td>146.0</td>\n",
       "      <td>4.9489</td>\n",
       "      <td>247100.0</td>\n",
       "      <td>NEAR BAY</td>\n",
       "    </tr>\n",
       "    <tr>\n",
       "      <th>696</th>\n",
       "      <td>-122.10</td>\n",
       "      <td>37.69</td>\n",
       "      <td>41.0</td>\n",
       "      <td>746.0</td>\n",
       "      <td>NaN</td>\n",
       "      <td>387.0</td>\n",
       "      <td>161.0</td>\n",
       "      <td>3.9063</td>\n",
       "      <td>178400.0</td>\n",
       "      <td>NEAR BAY</td>\n",
       "    </tr>\n",
       "    <tr>\n",
       "      <th>...</th>\n",
       "      <td>...</td>\n",
       "      <td>...</td>\n",
       "      <td>...</td>\n",
       "      <td>...</td>\n",
       "      <td>...</td>\n",
       "      <td>...</td>\n",
       "      <td>...</td>\n",
       "      <td>...</td>\n",
       "      <td>...</td>\n",
       "      <td>...</td>\n",
       "    </tr>\n",
       "    <tr>\n",
       "      <th>20267</th>\n",
       "      <td>-119.19</td>\n",
       "      <td>34.20</td>\n",
       "      <td>18.0</td>\n",
       "      <td>3620.0</td>\n",
       "      <td>NaN</td>\n",
       "      <td>3171.0</td>\n",
       "      <td>779.0</td>\n",
       "      <td>3.3409</td>\n",
       "      <td>220500.0</td>\n",
       "      <td>NEAR OCEAN</td>\n",
       "    </tr>\n",
       "    <tr>\n",
       "      <th>20268</th>\n",
       "      <td>-119.18</td>\n",
       "      <td>34.19</td>\n",
       "      <td>19.0</td>\n",
       "      <td>2393.0</td>\n",
       "      <td>NaN</td>\n",
       "      <td>1938.0</td>\n",
       "      <td>762.0</td>\n",
       "      <td>1.6953</td>\n",
       "      <td>167400.0</td>\n",
       "      <td>NEAR OCEAN</td>\n",
       "    </tr>\n",
       "    <tr>\n",
       "      <th>20372</th>\n",
       "      <td>-118.88</td>\n",
       "      <td>34.17</td>\n",
       "      <td>15.0</td>\n",
       "      <td>4260.0</td>\n",
       "      <td>NaN</td>\n",
       "      <td>1701.0</td>\n",
       "      <td>669.0</td>\n",
       "      <td>5.1033</td>\n",
       "      <td>410700.0</td>\n",
       "      <td>&lt;1H OCEAN</td>\n",
       "    </tr>\n",
       "    <tr>\n",
       "      <th>20460</th>\n",
       "      <td>-118.75</td>\n",
       "      <td>34.29</td>\n",
       "      <td>17.0</td>\n",
       "      <td>5512.0</td>\n",
       "      <td>NaN</td>\n",
       "      <td>2734.0</td>\n",
       "      <td>814.0</td>\n",
       "      <td>6.6073</td>\n",
       "      <td>258100.0</td>\n",
       "      <td>&lt;1H OCEAN</td>\n",
       "    </tr>\n",
       "    <tr>\n",
       "      <th>20484</th>\n",
       "      <td>-118.72</td>\n",
       "      <td>34.28</td>\n",
       "      <td>17.0</td>\n",
       "      <td>3051.0</td>\n",
       "      <td>NaN</td>\n",
       "      <td>1705.0</td>\n",
       "      <td>495.0</td>\n",
       "      <td>5.7376</td>\n",
       "      <td>218600.0</td>\n",
       "      <td>&lt;1H OCEAN</td>\n",
       "    </tr>\n",
       "  </tbody>\n",
       "</table>\n",
       "<p>207 rows × 10 columns</p>\n",
       "</div>"
      ],
      "text/plain": [
       "       longitude  latitude  housing_median_age  total_rooms  total_bedrooms  \\\n",
       "290      -122.16     37.77                47.0       1256.0             NaN   \n",
       "341      -122.17     37.75                38.0        992.0             NaN   \n",
       "538      -122.28     37.78                29.0       5154.0             NaN   \n",
       "563      -122.24     37.75                45.0        891.0             NaN   \n",
       "696      -122.10     37.69                41.0        746.0             NaN   \n",
       "...          ...       ...                 ...          ...             ...   \n",
       "20267    -119.19     34.20                18.0       3620.0             NaN   \n",
       "20268    -119.18     34.19                19.0       2393.0             NaN   \n",
       "20372    -118.88     34.17                15.0       4260.0             NaN   \n",
       "20460    -118.75     34.29                17.0       5512.0             NaN   \n",
       "20484    -118.72     34.28                17.0       3051.0             NaN   \n",
       "\n",
       "       population  households  median_income  median_house_value  \\\n",
       "290         570.0       218.0         4.3750            161900.0   \n",
       "341         732.0       259.0         1.6196             85100.0   \n",
       "538        3741.0      1273.0         2.5762            173400.0   \n",
       "563         384.0       146.0         4.9489            247100.0   \n",
       "696         387.0       161.0         3.9063            178400.0   \n",
       "...           ...         ...            ...                 ...   \n",
       "20267      3171.0       779.0         3.3409            220500.0   \n",
       "20268      1938.0       762.0         1.6953            167400.0   \n",
       "20372      1701.0       669.0         5.1033            410700.0   \n",
       "20460      2734.0       814.0         6.6073            258100.0   \n",
       "20484      1705.0       495.0         5.7376            218600.0   \n",
       "\n",
       "      ocean_proximity  \n",
       "290          NEAR BAY  \n",
       "341          NEAR BAY  \n",
       "538          NEAR BAY  \n",
       "563          NEAR BAY  \n",
       "696          NEAR BAY  \n",
       "...               ...  \n",
       "20267      NEAR OCEAN  \n",
       "20268      NEAR OCEAN  \n",
       "20372       <1H OCEAN  \n",
       "20460       <1H OCEAN  \n",
       "20484       <1H OCEAN  \n",
       "\n",
       "[207 rows x 10 columns]"
      ]
     },
     "execution_count": 83,
     "metadata": {},
     "output_type": "execute_result"
    }
   ],
   "source": [
    "# Exibindo as linhas onde a coluna 'total_bedrooms' possui valores em branco,\n",
    "# foram identificadas 207 linhas com valores ausentes.\n",
    "senso_california[senso_california['total_bedrooms'].isnull()]"
   ]
  },
  {
   "cell_type": "code",
   "execution_count": 84,
   "id": "f810ca6e",
   "metadata": {},
   "outputs": [
    {
     "data": {
      "application/vnd.microsoft.datawrangler.viewer.v0+json": {
       "columns": [
        {
         "name": "ocean_proximity",
         "rawType": "object",
         "type": "string"
        },
        {
         "name": "count",
         "rawType": "int64",
         "type": "integer"
        }
       ],
       "ref": "e028c636-f3bf-4fce-81af-fc19f3013b19",
       "rows": [
        [
         "<1H OCEAN",
         "9136"
        ],
        [
         "INLAND",
         "6551"
        ],
        [
         "NEAR OCEAN",
         "2658"
        ],
        [
         "NEAR BAY",
         "2290"
        ],
        [
         "ISLAND",
         "5"
        ]
       ],
       "shape": {
        "columns": 1,
        "rows": 5
       }
      },
      "text/plain": [
       "ocean_proximity\n",
       "<1H OCEAN     9136\n",
       "INLAND        6551\n",
       "NEAR OCEAN    2658\n",
       "NEAR BAY      2290\n",
       "ISLAND           5\n",
       "Name: count, dtype: int64"
      ]
     },
     "execution_count": 84,
     "metadata": {},
     "output_type": "execute_result"
    }
   ],
   "source": [
    "# a coluna 'ocean_proximity' é do tipo 'object', ou seja, contém dados categóricos.\n",
    "# Para verificar os valores únicos e suas contagens, podemos usar o método value_counts().\n",
    "senso_california.ocean_proximity.value_counts()"
   ]
  },
  {
   "cell_type": "code",
   "execution_count": 85,
   "id": "528f0a47",
   "metadata": {},
   "outputs": [
    {
     "data": {
      "image/png": "[encoded data removed]",
      "text/plain": [
       "<Figure size 1000x500 with 1 Axes>"
      ]
     },
     "metadata": {},
     "output_type": "display_data"
    }
   ],
   "source": [
    "# essa leitura do histograma mostra a distribuição dos valores das casas, \n",
    "# permitindo identificar a presença de outliers e a forma da distribuição.\n",
    "senso_california.median_house_value.hist(bins=50, figsize=(10,5))\n",
    "plt.xlabel('Valor da casa (em milhares)');\n"
   ]
  },
  {
   "cell_type": "markdown",
   "id": "8719076e",
   "metadata": {},
   "source": [
    "### Dividir os dados em conjuntos de treinamento e de teste"
   ]
  },
  {
   "cell_type": "code",
   "execution_count": 86,
   "id": "d62fea16",
   "metadata": {},
   "outputs": [],
   "source": [
    "from sklearn.model_selection import train_test_split\n",
    "### Dividir os dados em conjuntos de treinamento e de teste\n",
    "senso_california_train, senso_california_test = train_test_split(senso_california, test_size=0.2, random_state=42)"
   ]
  },
  {
   "cell_type": "code",
   "execution_count": 87,
   "id": "2eef9646",
   "metadata": {},
   "outputs": [
    {
     "data": {
      "image/png": "[encoded data removed]",
      "text/plain": [
       "<Figure size 1200x500 with 1 Axes>"
      ]
     },
     "metadata": {},
     "output_type": "display_data"
    }
   ],
   "source": [
    "import numpy as np\n",
    "senso_california_train['income_cat'] = pd.cut(senso_california_train['median_income'], bins=[0., 1.5, 3.0, 4.5, 6., np.inf], labels=[1, 2, 3, 4, 5])\n",
    "senso_california_train['income_cat'].hist(figsize=(12,5))\n",
    "plt.title('Distribuição da Categoria de Renda');\n",
    "plt.ylabel('Frequência');\n",
    "plt.xlabel('Categoria de Renda');"
   ]
  },
  {
   "cell_type": "markdown",
   "id": "413af3bf",
   "metadata": {},
   "source": [
    "### Amostragem Estratificada em Conjunto de Dados"
   ]
  },
  {
   "cell_type": "code",
   "execution_count": 88,
   "id": "a2ad5ed7",
   "metadata": {},
   "outputs": [
    {
     "ename": "KeyError",
     "evalue": "'income_cat'",
     "output_type": "error",
     "traceback": [
      "\u001b[31m---------------------------------------------------------------------------\u001b[39m",
      "\u001b[31mKeyError\u001b[39m                                  Traceback (most recent call last)",
      "\u001b[36mFile \u001b[39m\u001b[32mc:\\Users\\giulliano.filho\\AppData\\Local\\Programs\\Python\\Python313\\Lib\\site-packages\\pandas\\core\\indexes\\base.py:3805\u001b[39m, in \u001b[36mIndex.get_loc\u001b[39m\u001b[34m(self, key)\u001b[39m\n\u001b[32m   3804\u001b[39m \u001b[38;5;28;01mtry\u001b[39;00m:\n\u001b[32m-> \u001b[39m\u001b[32m3805\u001b[39m     \u001b[38;5;28;01mreturn\u001b[39;00m \u001b[38;5;28;43mself\u001b[39;49m\u001b[43m.\u001b[49m\u001b[43m_engine\u001b[49m\u001b[43m.\u001b[49m\u001b[43mget_loc\u001b[49m\u001b[43m(\u001b[49m\u001b[43mcasted_key\u001b[49m\u001b[43m)\u001b[49m\n\u001b[32m   3806\u001b[39m \u001b[38;5;28;01mexcept\u001b[39;00m \u001b[38;5;167;01mKeyError\u001b[39;00m \u001b[38;5;28;01mas\u001b[39;00m err:\n",
      "\u001b[36mFile \u001b[39m\u001b[32mindex.pyx:167\u001b[39m, in \u001b[36mpandas._libs.index.IndexEngine.get_loc\u001b[39m\u001b[34m()\u001b[39m\n",
      "\u001b[36mFile \u001b[39m\u001b[32mindex.pyx:196\u001b[39m, in \u001b[36mpandas._libs.index.IndexEngine.get_loc\u001b[39m\u001b[34m()\u001b[39m\n",
      "\u001b[36mFile \u001b[39m\u001b[32mpandas\\\\_libs\\\\hashtable_class_helper.pxi:7081\u001b[39m, in \u001b[36mpandas._libs.hashtable.PyObjectHashTable.get_item\u001b[39m\u001b[34m()\u001b[39m\n",
      "\u001b[36mFile \u001b[39m\u001b[32mpandas\\\\_libs\\\\hashtable_class_helper.pxi:7089\u001b[39m, in \u001b[36mpandas._libs.hashtable.PyObjectHashTable.get_item\u001b[39m\u001b[34m()\u001b[39m\n",
      "\u001b[31mKeyError\u001b[39m: 'income_cat'",
      "\nThe above exception was the direct cause of the following exception:\n",
      "\u001b[31mKeyError\u001b[39m                                  Traceback (most recent call last)",
      "\u001b[36mCell\u001b[39m\u001b[36m \u001b[39m\u001b[32mIn[88]\u001b[39m\u001b[32m, line 8\u001b[39m\n\u001b[32m      5\u001b[39m split = StratifiedShuffleSplit(n_splits=\u001b[32m1\u001b[39m, test_size=\u001b[32m0.2\u001b[39m, random_state=\u001b[32m42\u001b[39m)\n\u001b[32m      7\u001b[39m \u001b[38;5;66;03m# Para cada divisão gerada (apenas uma neste caso)\u001b[39;00m\n\u001b[32m----> \u001b[39m\u001b[32m8\u001b[39m \u001b[38;5;28;01mfor\u001b[39;00m train_index, test_index \u001b[38;5;129;01min\u001b[39;00m split.split(senso_california, \u001b[43msenso_california\u001b[49m\u001b[43m[\u001b[49m\u001b[33;43m\"\u001b[39;49m\u001b[33;43mincome_cat\u001b[39;49m\u001b[33;43m\"\u001b[39;49m\u001b[43m]\u001b[49m):\n\u001b[32m      9\u001b[39m     \u001b[38;5;66;03m# Seleciona as amostras de treino e teste mantendo a proporção das categorias de renda\u001b[39;00m\n\u001b[32m     10\u001b[39m     strat_train_set = senso_california.loc[train_index]\n\u001b[32m     11\u001b[39m     strat_test_set = senso_california.loc[test_index]\n",
      "\u001b[36mFile \u001b[39m\u001b[32mc:\\Users\\giulliano.filho\\AppData\\Local\\Programs\\Python\\Python313\\Lib\\site-packages\\pandas\\core\\frame.py:4102\u001b[39m, in \u001b[36mDataFrame.__getitem__\u001b[39m\u001b[34m(self, key)\u001b[39m\n\u001b[32m   4100\u001b[39m \u001b[38;5;28;01mif\u001b[39;00m \u001b[38;5;28mself\u001b[39m.columns.nlevels > \u001b[32m1\u001b[39m:\n\u001b[32m   4101\u001b[39m     \u001b[38;5;28;01mreturn\u001b[39;00m \u001b[38;5;28mself\u001b[39m._getitem_multilevel(key)\n\u001b[32m-> \u001b[39m\u001b[32m4102\u001b[39m indexer = \u001b[38;5;28;43mself\u001b[39;49m\u001b[43m.\u001b[49m\u001b[43mcolumns\u001b[49m\u001b[43m.\u001b[49m\u001b[43mget_loc\u001b[49m\u001b[43m(\u001b[49m\u001b[43mkey\u001b[49m\u001b[43m)\u001b[49m\n\u001b[32m   4103\u001b[39m \u001b[38;5;28;01mif\u001b[39;00m is_integer(indexer):\n\u001b[32m   4104\u001b[39m     indexer = [indexer]\n",
      "\u001b[36mFile \u001b[39m\u001b[32mc:\\Users\\giulliano.filho\\AppData\\Local\\Programs\\Python\\Python313\\Lib\\site-packages\\pandas\\core\\indexes\\base.py:3812\u001b[39m, in \u001b[36mIndex.get_loc\u001b[39m\u001b[34m(self, key)\u001b[39m\n\u001b[32m   3807\u001b[39m     \u001b[38;5;28;01mif\u001b[39;00m \u001b[38;5;28misinstance\u001b[39m(casted_key, \u001b[38;5;28mslice\u001b[39m) \u001b[38;5;129;01mor\u001b[39;00m (\n\u001b[32m   3808\u001b[39m         \u001b[38;5;28misinstance\u001b[39m(casted_key, abc.Iterable)\n\u001b[32m   3809\u001b[39m         \u001b[38;5;129;01mand\u001b[39;00m \u001b[38;5;28many\u001b[39m(\u001b[38;5;28misinstance\u001b[39m(x, \u001b[38;5;28mslice\u001b[39m) \u001b[38;5;28;01mfor\u001b[39;00m x \u001b[38;5;129;01min\u001b[39;00m casted_key)\n\u001b[32m   3810\u001b[39m     ):\n\u001b[32m   3811\u001b[39m         \u001b[38;5;28;01mraise\u001b[39;00m InvalidIndexError(key)\n\u001b[32m-> \u001b[39m\u001b[32m3812\u001b[39m     \u001b[38;5;28;01mraise\u001b[39;00m \u001b[38;5;167;01mKeyError\u001b[39;00m(key) \u001b[38;5;28;01mfrom\u001b[39;00m\u001b[38;5;250m \u001b[39m\u001b[34;01merr\u001b[39;00m\n\u001b[32m   3813\u001b[39m \u001b[38;5;28;01mexcept\u001b[39;00m \u001b[38;5;167;01mTypeError\u001b[39;00m:\n\u001b[32m   3814\u001b[39m     \u001b[38;5;66;03m# If we have a listlike key, _check_indexing_error will raise\u001b[39;00m\n\u001b[32m   3815\u001b[39m     \u001b[38;5;66;03m#  InvalidIndexError. Otherwise we fall through and re-raise\u001b[39;00m\n\u001b[32m   3816\u001b[39m     \u001b[38;5;66;03m#  the TypeError.\u001b[39;00m\n\u001b[32m   3817\u001b[39m     \u001b[38;5;28mself\u001b[39m._check_indexing_error(key)\n",
      "\u001b[31mKeyError\u001b[39m: 'income_cat'"
     ]
    }
   ],
   "source": [
    "# Importa o StratifiedShuffleSplit para realizar a amostragem estratificada\n",
    "from sklearn.model_selection import StratifiedShuffleSplit\n",
    "\n",
    "# Cria o objeto de divisão estratificada, com 1 divisão e 20% dos dados para teste\n",
    "split = StratifiedShuffleSplit(n_splits=1, test_size=0.2, random_state=42)\n",
    "\n",
    "# Para cada divisão gerada (apenas uma neste caso)\n",
    "for train_index, test_index in split.split(senso_california, senso_california[\"income_cat\"]):\n",
    "    # Seleciona as amostras de treino e teste mantendo a proporção das categorias de renda\n",
    "    strat_train_set = senso_california.loc[train_index]\n",
    "    strat_test_set = senso_california.loc[test_index]\n",
    "\n",
    "# Exibe a proporção de cada categoria de renda no conjunto de teste\n",
    "print(strat_test_set['income_cat'].value_counts() / len(strat_test_set))"
   ]
  }
 ],
 "metadata": {
  "kernelspec": {
   "display_name": "Python 3",
   "language": "python",
   "name": "python3"
  },
  "language_info": {
   "codemirror_mode": {
    "name": "ipython",
    "version": 3
   },
   "file_extension": ".py",
   "mimetype": "text/x-python",
   "name": "python",
   "nbconvert_exporter": "python",
   "pygments_lexer": "ipython3",
   "version": "3.13.0"
  }
 },
 "nbformat": 4,
 "nbformat_minor": 5
}
